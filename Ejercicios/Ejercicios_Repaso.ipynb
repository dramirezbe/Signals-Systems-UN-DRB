{
 "cells": [
  {
   "cell_type": "code",
   "execution_count": 2,
   "metadata": {},
   "outputs": [],
   "source": [
    "import numpy as np \n",
    "import scipy.signal as sig\n",
    "import matplotlib.pyplot as plt\n",
    "import IPython.display as ipd\n",
    "import soundfile as sf"
   ]
  },
  {
   "cell_type": "markdown",
   "metadata": {},
   "source": [
    "## 1\n",
    "\n",
    "- Grafica las ventanas Hanning, Hanning y Hamming\n",
    "- Dada una señal seno simulada de 1000 muestras y 1000 de frecuencia de muestreo, grafica la señal original y la señal con cada ventana aplicada (Utiliza axvline para marcar los bordes de la ventana). utiliza subplots para mostrar las 3 señales en una sola gráfica. \n"
   ]
  },
  {
   "cell_type": "code",
   "execution_count": null,
   "metadata": {},
   "outputs": [],
   "source": []
  },
  {
   "cell_type": "markdown",
   "metadata": {},
   "source": [
    "## 2\n",
    "- Subir un audio cualquiera y mostrar su espectrograma con diferentes configuraciones de ventanas, overlap y nperseg. (Cuáles son las diferencias que observas en los espectrogramas?)"
   ]
  },
  {
   "cell_type": "code",
   "execution_count": null,
   "metadata": {},
   "outputs": [],
   "source": []
  },
  {
   "cell_type": "markdown",
   "metadata": {},
   "source": [
    "## 3 \n",
    "\n",
    "- Con el mismo audio del espectro anterior, investiga cómo funciona scipy.signal.find_peaks y muestra los picos encontrados en el espectro. Luego, con un ancho de banda de 100 Hz, utiliza fileteo de arrays para cortar los primeros 3 picos del espectro de la señal. Escuchar el audio resultante en el tiempo."
   ]
  },
  {
   "cell_type": "code",
   "execution_count": null,
   "metadata": {},
   "outputs": [],
   "source": []
  },
  {
   "cell_type": "markdown",
   "metadata": {},
   "source": [
    "## 4\n",
    "\n",
    "- Utiliza scipy.signal para filtrar el audio original con un filtro butterworth pasabajas de 4to orden con frecuencia de corte de 1000 Hz. Escucha el audio resultante."
   ]
  },
  {
   "cell_type": "code",
   "execution_count": null,
   "metadata": {},
   "outputs": [],
   "source": []
  },
  {
   "cell_type": "markdown",
   "metadata": {},
   "source": [
    "## 5\n",
    "\n",
    "Con sympy genera un filtro RLC pasa bandas. Filtra el audio entre 3000 y 5000 Hz. Escucha el audio resultante."
   ]
  }
 ],
 "metadata": {
  "kernelspec": {
   "display_name": "sys-env",
   "language": "python",
   "name": "python3"
  },
  "language_info": {
   "codemirror_mode": {
    "name": "ipython",
    "version": 3
   },
   "file_extension": ".py",
   "mimetype": "text/x-python",
   "name": "python",
   "nbconvert_exporter": "python",
   "pygments_lexer": "ipython3",
   "version": "3.12.8"
  }
 },
 "nbformat": 4,
 "nbformat_minor": 2
}
